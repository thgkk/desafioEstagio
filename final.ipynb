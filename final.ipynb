{
 "cells": [
  {
   "cell_type": "code",
   "execution_count": 49,
   "metadata": {},
   "outputs": [
    {
     "name": "stdout",
     "output_type": "stream",
     "text": [
      "          Questao 1\n",
      "\n",
      "O faturamento total do mês foi: 19552328.319999993\n",
      "\n",
      "          Questao 2\n",
      "\n",
      "O produto mais comprado do mês foi o de id: 626664333563363\n",
      "\n",
      "          Questao 3\n",
      "\n",
      "Media total de vendas no mes por dia em RJ: 286.03225806451616\n",
      "Media de vendas na sexta em RJ: 361.8\n",
      "Media de vendas no sabado em RJ: 361.25\n",
      "Media de vendas no domingo em RJ: 69.5\n",
      "\n",
      "          Questao 4\n",
      "\n",
      "O numero de clientes que visitaram a pagina e compraram na loja fisica é: 592\n",
      "Os que nao optaram: 9309\n",
      "Ou seja, 5.98% optaram\n"
     ]
    }
   ],
   "source": [
    "import pandas as pd\n",
    "import numpy as np\n",
    "import matplotlib.pyplot as plt\n",
    "import json \n",
    "import ijson\n",
    "import warnings\n",
    "warnings.simplefilter(action='ignore', category=FutureWarning)\n",
    "from pandas.io.json import json_normalize\n",
    "\n",
    "\n",
    "\n",
    "\n",
    "\n",
    "# Importando os arquivos json para o codigo\n",
    "with open('offline_sales.json') as f:\n",
    "    offline_sales = pd.DataFrame(json.loads(line) for line in f)\n",
    "    \n",
    "with open('online_orders.json') as f:\n",
    "    online_orders = pd.DataFrame(json.loads(line) for line in f)\n",
    "    \n",
    "with open('teste1.json') as f:\n",
    "    teste1 = pd.DataFrame(json.loads(line) for line in f)\n",
    "    \n",
    "    \n",
    "    \n",
    "customer_id_array = []\n",
    "with open('online_pageviews.json') as f:\n",
    "    for line in f:\n",
    "        customer_id_array.append(json.loads(line)['customer_id'])\n",
    "online_pageviews = pd.DataFrame(customer_id_array,columns = ['customer_id']) # Dataframe apenas com a coluna 'customer_id' do online_pageviews.json\n",
    "    \n",
    "\n",
    "quantidade_maxima_offline = offline_sales['quantity'].max() #quantidade maxima de quantidades compradas offline\n",
    "quantidade_maxima_online = online_orders['quantity'].max()  #quantidade maxima de quantidades compradas online\n",
    "\n",
    "\n",
    "# Codigo para questao 1\n",
    "\n",
    "\n",
    "def soma_faturamento_offline():\n",
    "    soma = 0\n",
    "    for i in range(quantidade_maxima_offline):\n",
    "        dataframe_i = offline_sales[offline_sales['quantity']==i+1] #Dataframe filtrado em 'quantity' = i + 1\n",
    "        soma += sum(dataframe_i.price)*(i+1)                        # A soma dos preços e multiplicado pela sua quantidade vendida\n",
    "    return (soma)\n",
    "    \n",
    "def soma_faturamento_online():\n",
    "    soma = 0\n",
    "    for i in range(quantidade_maxima_online):\n",
    "        dataframe_i = online_orders[online_orders['quantity']==i+1] # Mesma logica do soma_faturamento_offline\n",
    "        soma += sum(dataframe_i.price)*(i+1)\n",
    "    return (soma)\n",
    "\n",
    "def faturamento_total(): # O faturamento total eu deduzo que seja a soma dos preços dos itens vendidos offline e online\n",
    "    return (soma_faturamento_online() + soma_faturamento_offline())\n",
    "\n",
    "print(\"          Questao 1\\n\")\n",
    "print(\"O faturamento total do mês foi: \" + str(faturamento_total())+\"\\n\")\n",
    "\n",
    "\n",
    "# Codigo para questao 2\n",
    "\n",
    "def produto_mais_comprado_online():      # Pensei no metodo mode() para retornar o valor mais frequente\n",
    "    return online_orders.on_product_id.mode().loc[0]\n",
    "print(\"          Questao 2\\n\")\n",
    "print(\"O produto mais comprado do mês foi o de id: \" + str(produto_mais_comprado_online()) +\"\\n\")\n",
    "\n",
    "# Codigo para questao 3\n",
    "\n",
    "def estado_fimDeSemana_vende(estado):\n",
    "    \n",
    "    data_frame_state_offline = offline_sales[offline_sales['state']==str(estado)]['date']   # Filtrar para datas de compras apenas no RJ\n",
    "    state_offline_frequencia = data_frame_state_offline.value_counts() # Dataframe das frequencias de compra no mes, desde o dia que menos vendeu até o dia que mais vendeu\n",
    "    \n",
    "    # Deduzo que os finais de semana sejam sexta, sabado e domingo\n",
    "    \n",
    "    fim_de_semana = pd.DataFrame({'Sexta' : [\"2018-08-03\", \"2018-08-10\", \"2018-08-17\", \"2018-08-24\", \"2018-08-31\"],\n",
    "                                  'Sabado' : [\"2018-08-04\",\"2018-08-11\",\"2018-08-18\",\"2018-08-25\",\"0\"],\n",
    "                                  'Domingo' : [\"2018-08-05\",\"2018-08-12\",\"2018-08-19\",\"2018-08-26\",\"0\"]})\n",
    "    print(\"Media total de vendas no mes por dia em \"+str(estado)+\": \" + str(state_offline_frequencia.mean())+\"\\n\" +\n",
    "          \"Media de vendas na sexta em \" + str(estado) +\": \" + str(state_offline_frequencia.loc[fim_de_semana[\"Sexta\"]].mean())+\"\\n\" +\n",
    "          \"Media de vendas no sabado em \" + str(estado) +\": \" + str(state_offline_frequencia.loc[fim_de_semana[\"Sabado\"]].mean()) +\"\\n\"+\n",
    "          \"Media de vendas no domingo em \" + str(estado) +\": \" + str(state_offline_frequencia.loc[fim_de_semana[\"Domingo\"]].mean()) +\"\\n\")\n",
    "\n",
    "print(\"          Questao 3\\n\")\n",
    "estado_fimDeSemana_vende(\"RJ\")      \n",
    "\n",
    "# Codigo para questao 4\n",
    "\n",
    "offline_sales_filtrado = offline_sales.dropna().customer_id.drop_duplicates() # Id's sem valores nulos e repetidos\n",
    "online_pageviews_filtrado = online_pageviews.dropna().customer_id.drop_duplicates() #Id's sem valores nuloes e repetidos\n",
    "\n",
    "def soma_optar_loja_fisica():  # Retorna a soma de todos os clientes que visitaram a pagina do produto e compraram na loja fisica\n",
    "    soma_que_optaram = 0\n",
    "    soma_que_nao_optaram = 0\n",
    "    lista = []\n",
    "    for i in offline_sales_filtrado:  # i assumira todos os valores customer_id\n",
    "        if online_pageviews_filtrado.isin([i]).any().any():     # Retorna True se i pertence a offline_sales\n",
    "            soma_que_optaram+=1 \n",
    "        else:\n",
    "            soma_que_nao_optaram = offline_sales.customer_id.\n",
    "    lista.append(soma_que_optaram)\n",
    "    lista.append(soma_que_nao_optaram)\n",
    "    return lista\n",
    "\n",
    "lista_descartavel = soma_optar_loja_fisica()\n",
    "optaram =lista_descartavel[0]\n",
    "nao_optaram = lista_descartavel[1]\n",
    "\n",
    "print(\"          Questao 4\\n\")\n",
    "print(\"O numero de clientes que visitaram a pagina e compraram na loja fisica é: \"+str(optaram))\n",
    "print(\"O numero de clientes que visitaram a pagina e NAO compraram na loja fisica é: \"+ str(nao_optaram))\n",
    "percentual = optaram/(optaram+nao_optaram)*100\n",
    "print(\"Ou seja, %.2f\" % round(percentual,2) + \"% visitarm a pagina e compraram na loja fisica\")\n",
    "\n",
    "\n",
    "# Codigo para questao 5\n",
    "def visitaram_mas_nao_compraram():\n",
    "    \n",
    "    \n",
    "    \n",
    "    \n",
    "    \n",
    "    \n",
    "    \n",
    "    \n",
    "    \n",
    "    \n",
    "    \n",
    "    \n",
    "    "
   ]
  },
  {
   "cell_type": "code",
   "execution_count": 43,
   "metadata": {},
   "outputs": [
    {
     "data": {
      "text/plain": [
       "592"
      ]
     },
     "execution_count": 43,
     "metadata": {},
     "output_type": "execute_result"
    }
   ],
   "source": [
    "soma_optar_loja_fisica()"
   ]
  },
  {
   "cell_type": "code",
   "execution_count": 52,
   "metadata": {},
   "outputs": [
    {
     "data": {
      "text/plain": [
       "105        33343163316564313264\n",
       "234        32353932336234383731\n",
       "268        37653631373639353439\n",
       "282        31656237363165306136\n",
       "353        36353138313232343264\n",
       "                   ...         \n",
       "3443224    33303063346337376537\n",
       "3443895    37663936623837653136\n",
       "3447089    64386266376432306665\n",
       "3447523    33303961613933623932\n",
       "3449241    34306431346163663836\n",
       "Name: customer_id, Length: 5913, dtype: object"
      ]
     },
     "execution_count": 52,
     "metadata": {},
     "output_type": "execute_result"
    }
   ],
   "source": [
    "online_pageviews_filtrado"
   ]
  },
  {
   "cell_type": "code",
   "execution_count": 56,
   "metadata": {},
   "outputs": [
    {
     "data": {
      "text/plain": [
       "0                        None\n",
       "7        30373934343338363136\n",
       "8        30393833353363303832\n",
       "9        31366262653431626130\n",
       "10       32653962626632373464\n",
       "                 ...         \n",
       "29355    66336131363066643566\n",
       "29362    30646439663065646630\n",
       "29366    37636261646663633837\n",
       "29367    64396262383730623737\n",
       "29369    66326466346331333530\n",
       "Name: customer_id, Length: 9902, dtype: object"
      ]
     },
     "execution_count": 56,
     "metadata": {},
     "output_type": "execute_result"
    }
   ],
   "source": [
    "offline_sales.customer_id.drop_duplicates()"
   ]
  },
  {
   "cell_type": "code",
   "execution_count": 63,
   "metadata": {},
   "outputs": [
    {
     "data": {
      "text/plain": [
       "626664333563363    74\n",
       "656136316465643    50\n",
       "376531636530353    50\n",
       "396464373131666    47\n",
       "656662626334303    45\n",
       "                   ..\n",
       "643633376130306     1\n",
       "386366636132366     1\n",
       "656535323731333     1\n",
       "356462646338653     1\n",
       "643966356239633     1\n",
       "Name: on_product_id, Length: 2184, dtype: int64"
      ]
     },
     "execution_count": 63,
     "metadata": {},
     "output_type": "execute_result"
    }
   ],
   "source": [
    "online_orders.on_product_id.value_counts()"
   ]
  },
  {
   "cell_type": "code",
   "execution_count": null,
   "metadata": {},
   "outputs": [],
   "source": []
  }
 ],
 "metadata": {
  "kernelspec": {
   "display_name": "Python 3",
   "language": "python",
   "name": "python3"
  },
  "language_info": {
   "codemirror_mode": {
    "name": "ipython",
    "version": 3
   },
   "file_extension": ".py",
   "mimetype": "text/x-python",
   "name": "python",
   "nbconvert_exporter": "python",
   "pygments_lexer": "ipython3",
   "version": "3.7.4"
  }
 },
 "nbformat": 4,
 "nbformat_minor": 2
}
